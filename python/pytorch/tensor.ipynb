{
 "cells": [
  {
   "cell_type": "code",
   "execution_count": 5,
   "metadata": {},
   "outputs": [],
   "source": [
    "# 创建数据\n",
    "import torch\n",
    "import numpy as np\n",
    "data = torch.tensor([[1, 2], [3, 4]], dtype=torch.float32) # 指定数据\n",
    "data = torch.rand([3,3],dtype=torch.float32) # 随机数据\n",
    "data = torch.ones([3,3],dtype=torch.float32) # 全1数据\n",
    "data = torch.zeros([3,3],dtype=torch.float32) # 全0数据\n",
    "data = torch.from_numpy(np.array([[1,2],[3,4]])) # 全0数据\n"
   ]
  }
 ],
 "metadata": {
  "kernelspec": {
   "display_name": "torch",
   "language": "python",
   "name": "python3"
  },
  "language_info": {
   "codemirror_mode": {
    "name": "ipython",
    "version": 3
   },
   "file_extension": ".py",
   "mimetype": "text/x-python",
   "name": "python",
   "nbconvert_exporter": "python",
   "pygments_lexer": "ipython3",
   "version": "3.11.4"
  },
  "orig_nbformat": 4
 },
 "nbformat": 4,
 "nbformat_minor": 2
}
